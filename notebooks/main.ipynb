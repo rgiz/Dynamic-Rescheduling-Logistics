{
 "cells": [
  {
   "cell_type": "markdown",
   "id": "f516a6f6",
   "metadata": {},
   "source": [
    "Logistics Data (Kaggle)\n",
    "Source: https://www.kaggle.com/datasets/devarajv88/delhivery-logistics-dataset/data"
   ]
  },
  {
   "cell_type": "markdown",
   "id": "426d2e20",
   "metadata": {},
   "source": [
    "### BASIC DATA PROCESSING ###"
   ]
  },
  {
   "cell_type": "markdown",
   "id": "3b2dd141",
   "metadata": {},
   "source": [
    "Key Info about the Data:\n",
    "\n",
    "1. Each row in the dataset is one element of one trip corresponding to one A to B journey\n",
    "2. Trips may not be broken up into sub components\n",
    "3. One driver has one route, which is comprised of multiple trips\n",
    "\n",
    "We may therefore create a new dataframe where the rows comprising one whole trip may be shown on a single line:\n",
    "\n",
    "1. The start point shown will be the starting location for the trip\n",
    "2. The end point shown will be the final destination for the trip\n",
    "3. The start and end times will be lifted accordingly\n",
    "4. Mileage and duration values will be summed\n",
    "\n",
    "We may then create another new dataframe where the rows comprising one entire trip are shown on a single line, following the same logical pattern as the trips summary dataframe detailed above.\n",
    "\n",
    "We will also create a mapping of the depot locations with X, Y co-ordinates to represent Geographical location and aid the model in planning. This will be extracted by a triangulation script and stored as another CSV file of X,Y co-ordinates."
   ]
  },
  {
   "cell_type": "code",
   "execution_count": 6,
   "id": "a54dec6f",
   "metadata": {},
   "outputs": [],
   "source": [
    "import torch\n",
    "import numpy as np\n",
    "import pandas as pd"
   ]
  },
  {
   "cell_type": "code",
   "execution_count": 7,
   "id": "2e675939",
   "metadata": {},
   "outputs": [],
   "source": [
    "import sys\n",
    "from pathlib import Path\n",
    "\n",
    "src_path = Path(\"../src\").resolve()  # adjust relative to the notebook location\n",
    "if str(src_path) not in sys.path:\n",
    "    sys.path.insert(0, str(src_path))"
   ]
  },
  {
   "cell_type": "code",
   "execution_count": 8,
   "id": "f102a9dc",
   "metadata": {},
   "outputs": [
    {
     "name": "stdout",
     "output_type": "stream",
     "text": [
      "Loaded data with shape: (144867, 24)\n"
     ]
    },
    {
     "name": "stderr",
     "output_type": "stream",
     "text": [
      "C:\\Users\\ellag\\Desktop\\ML Course\\Logistics_Project\\src\\data_utils.py:84: FutureWarning: DataFrameGroupBy.apply operated on the grouping columns. This behavior is deprecated, and in a future version of pandas the grouping columns will be excluded from the operation. Either pass `include_groups=False` to exclude the groupings or explicitly select the grouping columns after groupby to silence this warning.\n",
      "  grouped[\"route_start_location\"] = sorted_groups.apply(lambda g: g.sort_values(\"od_start_time\").iloc[0][\"source_center\"]).values\n",
      "C:\\Users\\ellag\\Desktop\\ML Course\\Logistics_Project\\src\\data_utils.py:85: FutureWarning: DataFrameGroupBy.apply operated on the grouping columns. This behavior is deprecated, and in a future version of pandas the grouping columns will be excluded from the operation. Either pass `include_groups=False` to exclude the groupings or explicitly select the grouping columns after groupby to silence this warning.\n",
      "  grouped[\"route_end_location\"] = sorted_groups.apply(lambda g: g.sort_values(\"od_start_time\").iloc[-1][\"destination_center\"]).values\n"
     ]
    }
   ],
   "source": [
    "from pathlib import Path\n",
    "import pandas as pd\n",
    "from data_utils import load_raw_data, clean_columns, group_by_trip, group_by_route\n",
    "\n",
    "data_path = Path(\"../data/raw/delhivery.csv\").resolve()\n",
    "df = load_raw_data(\"../data/raw/delhivery.csv\")\n",
    "df_clean = clean_columns(df)\n",
    "df_trips = group_by_trip(df_clean)\n",
    "df_routes = group_by_route(df_trips) "
   ]
  },
  {
   "cell_type": "code",
   "execution_count": 9,
   "id": "4c208866",
   "metadata": {},
   "outputs": [],
   "source": [
    "df_clean.to_csv(\"../data/processed/cleaned.csv\", index=False)\n",
    "df_trips.to_csv(\"../data/processed/trips.csv\", index=False)\n",
    "df_routes.to_csv(\"../data/processed/routes.csv\", index=False)"
   ]
  },
  {
   "cell_type": "code",
   "execution_count": 10,
   "id": "a71a334b",
   "metadata": {},
   "outputs": [
    {
     "data": {
      "text/html": [
       "<div>\n",
       "<style scoped>\n",
       "    .dataframe tbody tr th:only-of-type {\n",
       "        vertical-align: middle;\n",
       "    }\n",
       "\n",
       "    .dataframe tbody tr th {\n",
       "        vertical-align: top;\n",
       "    }\n",
       "\n",
       "    .dataframe thead th {\n",
       "        text-align: right;\n",
       "    }\n",
       "</style>\n",
       "<table border=\"1\" class=\"dataframe\">\n",
       "  <thead>\n",
       "    <tr style=\"text-align: right;\">\n",
       "      <th></th>\n",
       "      <th>x</th>\n",
       "      <th>y</th>\n",
       "      <th>center_id</th>\n",
       "    </tr>\n",
       "  </thead>\n",
       "  <tbody>\n",
       "    <tr>\n",
       "      <th>0</th>\n",
       "      <td>-342.150349</td>\n",
       "      <td>2671.633788</td>\n",
       "      <td>IND000000AAL</td>\n",
       "    </tr>\n",
       "    <tr>\n",
       "      <th>1</th>\n",
       "      <td>2444.119681</td>\n",
       "      <td>306.914221</td>\n",
       "      <td>IND000000AAQ</td>\n",
       "    </tr>\n",
       "    <tr>\n",
       "      <th>2</th>\n",
       "      <td>-1718.978163</td>\n",
       "      <td>-1899.381983</td>\n",
       "      <td>IND000000AAZ</td>\n",
       "    </tr>\n",
       "    <tr>\n",
       "      <th>3</th>\n",
       "      <td>-2337.171910</td>\n",
       "      <td>1291.010481</td>\n",
       "      <td>IND000000ABA</td>\n",
       "    </tr>\n",
       "    <tr>\n",
       "      <th>4</th>\n",
       "      <td>424.943275</td>\n",
       "      <td>1393.575326</td>\n",
       "      <td>IND000000ABD</td>\n",
       "    </tr>\n",
       "  </tbody>\n",
       "</table>\n",
       "</div>"
      ],
      "text/plain": [
       "             x            y     center_id\n",
       "0  -342.150349  2671.633788  IND000000AAL\n",
       "1  2444.119681   306.914221  IND000000AAQ\n",
       "2 -1718.978163 -1899.381983  IND000000AAZ\n",
       "3 -2337.171910  1291.010481  IND000000ABA\n",
       "4   424.943275  1393.575326  IND000000ABD"
      ]
     },
     "execution_count": 10,
     "metadata": {},
     "output_type": "execute_result"
    }
   ],
   "source": [
    "from pathlib import Path\n",
    "from data_utils import load_or_generate_coordinates\n",
    "\n",
    "# Set project root explicitly\n",
    "project_root = Path.cwd().parent\n",
    "\n",
    "# Load coordinates (or generate if missing)\n",
    "df_coords = load_or_generate_coordinates(project_root)\n",
    "df_coords.head()"
   ]
  }
 ],
 "metadata": {
  "kernelspec": {
   "display_name": "cuda126-py312",
   "language": "python",
   "name": "python3"
  },
  "language_info": {
   "codemirror_mode": {
    "name": "ipython",
    "version": 3
   },
   "file_extension": ".py",
   "mimetype": "text/x-python",
   "name": "python",
   "nbconvert_exporter": "python",
   "pygments_lexer": "ipython3",
   "version": "3.12.11"
  }
 },
 "nbformat": 4,
 "nbformat_minor": 5
}
